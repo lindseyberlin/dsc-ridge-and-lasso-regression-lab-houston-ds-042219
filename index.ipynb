{
 "cells": [
  {
   "cell_type": "markdown",
   "metadata": {},
   "source": [
    "# Ridge and Lasso Regression - Lab"
   ]
  },
  {
   "cell_type": "markdown",
   "metadata": {},
   "source": [
    "## Introduction"
   ]
  },
  {
   "cell_type": "markdown",
   "metadata": {},
   "source": [
    "In this lab, you'll practice your knowledge on Ridge and Lasso regression!"
   ]
  },
  {
   "cell_type": "markdown",
   "metadata": {},
   "source": [
    "## Objectives"
   ]
  },
  {
   "cell_type": "markdown",
   "metadata": {},
   "source": [
    "You will be able to:"
   ]
  },
  {
   "cell_type": "markdown",
   "metadata": {},
   "source": [
    "- Use Lasso and ridge regression in Python\n",
    "- Compare Lasso and Ridge with standard regression"
   ]
  },
  {
   "cell_type": "markdown",
   "metadata": {},
   "source": [
    "## Housing Prices Data"
   ]
  },
  {
   "cell_type": "markdown",
   "metadata": {},
   "source": [
    "Let's look at yet another house pricing data set."
   ]
  },
  {
   "cell_type": "code",
   "execution_count": 1,
   "metadata": {},
   "outputs": [],
   "source": [
    "import pandas as pd\n",
    "import warnings\n",
    "warnings.filterwarnings('ignore')\n",
    "\n",
    "df = pd.read_csv('Housing_Prices/train.csv')"
   ]
  },
  {
   "cell_type": "markdown",
   "metadata": {},
   "source": [
    "Look at df.info"
   ]
  },
  {
   "cell_type": "code",
   "execution_count": 2,
   "metadata": {
    "scrolled": true
   },
   "outputs": [
    {
     "name": "stdout",
     "output_type": "stream",
     "text": [
      "<class 'pandas.core.frame.DataFrame'>\n",
      "RangeIndex: 1460 entries, 0 to 1459\n",
      "Data columns (total 81 columns):\n",
      "Id               1460 non-null int64\n",
      "MSSubClass       1460 non-null int64\n",
      "MSZoning         1460 non-null object\n",
      "LotFrontage      1201 non-null float64\n",
      "LotArea          1460 non-null int64\n",
      "Street           1460 non-null object\n",
      "Alley            91 non-null object\n",
      "LotShape         1460 non-null object\n",
      "LandContour      1460 non-null object\n",
      "Utilities        1460 non-null object\n",
      "LotConfig        1460 non-null object\n",
      "LandSlope        1460 non-null object\n",
      "Neighborhood     1460 non-null object\n",
      "Condition1       1460 non-null object\n",
      "Condition2       1460 non-null object\n",
      "BldgType         1460 non-null object\n",
      "HouseStyle       1460 non-null object\n",
      "OverallQual      1460 non-null int64\n",
      "OverallCond      1460 non-null int64\n",
      "YearBuilt        1460 non-null int64\n",
      "YearRemodAdd     1460 non-null int64\n",
      "RoofStyle        1460 non-null object\n",
      "RoofMatl         1460 non-null object\n",
      "Exterior1st      1460 non-null object\n",
      "Exterior2nd      1460 non-null object\n",
      "MasVnrType       1452 non-null object\n",
      "MasVnrArea       1452 non-null float64\n",
      "ExterQual        1460 non-null object\n",
      "ExterCond        1460 non-null object\n",
      "Foundation       1460 non-null object\n",
      "BsmtQual         1423 non-null object\n",
      "BsmtCond         1423 non-null object\n",
      "BsmtExposure     1422 non-null object\n",
      "BsmtFinType1     1423 non-null object\n",
      "BsmtFinSF1       1460 non-null int64\n",
      "BsmtFinType2     1422 non-null object\n",
      "BsmtFinSF2       1460 non-null int64\n",
      "BsmtUnfSF        1460 non-null int64\n",
      "TotalBsmtSF      1460 non-null int64\n",
      "Heating          1460 non-null object\n",
      "HeatingQC        1460 non-null object\n",
      "CentralAir       1460 non-null object\n",
      "Electrical       1459 non-null object\n",
      "1stFlrSF         1460 non-null int64\n",
      "2ndFlrSF         1460 non-null int64\n",
      "LowQualFinSF     1460 non-null int64\n",
      "GrLivArea        1460 non-null int64\n",
      "BsmtFullBath     1460 non-null int64\n",
      "BsmtHalfBath     1460 non-null int64\n",
      "FullBath         1460 non-null int64\n",
      "HalfBath         1460 non-null int64\n",
      "BedroomAbvGr     1460 non-null int64\n",
      "KitchenAbvGr     1460 non-null int64\n",
      "KitchenQual      1460 non-null object\n",
      "TotRmsAbvGrd     1460 non-null int64\n",
      "Functional       1460 non-null object\n",
      "Fireplaces       1460 non-null int64\n",
      "FireplaceQu      770 non-null object\n",
      "GarageType       1379 non-null object\n",
      "GarageYrBlt      1379 non-null float64\n",
      "GarageFinish     1379 non-null object\n",
      "GarageCars       1460 non-null int64\n",
      "GarageArea       1460 non-null int64\n",
      "GarageQual       1379 non-null object\n",
      "GarageCond       1379 non-null object\n",
      "PavedDrive       1460 non-null object\n",
      "WoodDeckSF       1460 non-null int64\n",
      "OpenPorchSF      1460 non-null int64\n",
      "EnclosedPorch    1460 non-null int64\n",
      "3SsnPorch        1460 non-null int64\n",
      "ScreenPorch      1460 non-null int64\n",
      "PoolArea         1460 non-null int64\n",
      "PoolQC           7 non-null object\n",
      "Fence            281 non-null object\n",
      "MiscFeature      54 non-null object\n",
      "MiscVal          1460 non-null int64\n",
      "MoSold           1460 non-null int64\n",
      "YrSold           1460 non-null int64\n",
      "SaleType         1460 non-null object\n",
      "SaleCondition    1460 non-null object\n",
      "SalePrice        1460 non-null int64\n",
      "dtypes: float64(3), int64(35), object(43)\n",
      "memory usage: 924.0+ KB\n"
     ]
    }
   ],
   "source": [
    "df.info()"
   ]
  },
  {
   "cell_type": "code",
   "execution_count": 3,
   "metadata": {},
   "outputs": [
    {
     "data": {
      "text/plain": [
       "180921.19589041095"
      ]
     },
     "execution_count": 3,
     "metadata": {},
     "output_type": "execute_result"
    }
   ],
   "source": [
    "df[\"SalePrice\"].mean()"
   ]
  },
  {
   "cell_type": "markdown",
   "metadata": {},
   "source": [
    "First, make a selection of the data by removing some of the data with `dtype = object`, this way our first model only contains **continuous features**\n",
    "\n",
    "Make sure to remove the SalesPrice column from the predictors (which you store in `X`), then replace missing inputs by the median per feature.\n",
    "\n",
    "Store the target in `y`."
   ]
  },
  {
   "cell_type": "code",
   "execution_count": 4,
   "metadata": {},
   "outputs": [],
   "source": [
    "# Load necessary packages\n",
    "from sklearn.linear_model import Lasso, Ridge, LinearRegression\n",
    "from sklearn.model_selection import train_test_split\n",
    "import numpy as np\n",
    "import matplotlib.pyplot as plt"
   ]
  },
  {
   "cell_type": "code",
   "execution_count": 5,
   "metadata": {},
   "outputs": [
    {
     "data": {
      "text/plain": [
       "dtype('O')"
      ]
     },
     "execution_count": 5,
     "metadata": {},
     "output_type": "execute_result"
    }
   ],
   "source": [
    "np.dtype(df[\"Fence\"])"
   ]
  },
  {
   "cell_type": "code",
   "execution_count": 6,
   "metadata": {},
   "outputs": [],
   "source": [
    "# remove \"object\"-type features and SalesPrice from `X`\n",
    "dropped_df = df.copy()\n",
    "for column in df.columns:\n",
    "    if np.dtype(df[column]) == np.dtype(\"O\"):\n",
    "        dropped_df = dropped_df.drop(columns=[column])\n",
    "    else:\n",
    "        continue"
   ]
  },
  {
   "cell_type": "code",
   "execution_count": 7,
   "metadata": {},
   "outputs": [
    {
     "name": "stdout",
     "output_type": "stream",
     "text": [
      "<class 'pandas.core.frame.DataFrame'>\n",
      "RangeIndex: 1460 entries, 0 to 1459\n",
      "Data columns (total 38 columns):\n",
      "Id               1460 non-null int64\n",
      "MSSubClass       1460 non-null int64\n",
      "LotFrontage      1201 non-null float64\n",
      "LotArea          1460 non-null int64\n",
      "OverallQual      1460 non-null int64\n",
      "OverallCond      1460 non-null int64\n",
      "YearBuilt        1460 non-null int64\n",
      "YearRemodAdd     1460 non-null int64\n",
      "MasVnrArea       1452 non-null float64\n",
      "BsmtFinSF1       1460 non-null int64\n",
      "BsmtFinSF2       1460 non-null int64\n",
      "BsmtUnfSF        1460 non-null int64\n",
      "TotalBsmtSF      1460 non-null int64\n",
      "1stFlrSF         1460 non-null int64\n",
      "2ndFlrSF         1460 non-null int64\n",
      "LowQualFinSF     1460 non-null int64\n",
      "GrLivArea        1460 non-null int64\n",
      "BsmtFullBath     1460 non-null int64\n",
      "BsmtHalfBath     1460 non-null int64\n",
      "FullBath         1460 non-null int64\n",
      "HalfBath         1460 non-null int64\n",
      "BedroomAbvGr     1460 non-null int64\n",
      "KitchenAbvGr     1460 non-null int64\n",
      "TotRmsAbvGrd     1460 non-null int64\n",
      "Fireplaces       1460 non-null int64\n",
      "GarageYrBlt      1379 non-null float64\n",
      "GarageCars       1460 non-null int64\n",
      "GarageArea       1460 non-null int64\n",
      "WoodDeckSF       1460 non-null int64\n",
      "OpenPorchSF      1460 non-null int64\n",
      "EnclosedPorch    1460 non-null int64\n",
      "3SsnPorch        1460 non-null int64\n",
      "ScreenPorch      1460 non-null int64\n",
      "PoolArea         1460 non-null int64\n",
      "MiscVal          1460 non-null int64\n",
      "MoSold           1460 non-null int64\n",
      "YrSold           1460 non-null int64\n",
      "SalePrice        1460 non-null int64\n",
      "dtypes: float64(3), int64(35)\n",
      "memory usage: 433.5 KB\n"
     ]
    }
   ],
   "source": [
    "dropped_df.info()"
   ]
  },
  {
   "cell_type": "code",
   "execution_count": 8,
   "metadata": {
    "scrolled": true
   },
   "outputs": [
    {
     "data": {
      "text/plain": [
       "Id               0\n",
       "MSSubClass       0\n",
       "LotFrontage      0\n",
       "LotArea          0\n",
       "OverallQual      0\n",
       "OverallCond      0\n",
       "YearBuilt        0\n",
       "YearRemodAdd     0\n",
       "MasVnrArea       0\n",
       "BsmtFinSF1       0\n",
       "BsmtFinSF2       0\n",
       "BsmtUnfSF        0\n",
       "TotalBsmtSF      0\n",
       "1stFlrSF         0\n",
       "2ndFlrSF         0\n",
       "LowQualFinSF     0\n",
       "GrLivArea        0\n",
       "BsmtFullBath     0\n",
       "BsmtHalfBath     0\n",
       "FullBath         0\n",
       "HalfBath         0\n",
       "BedroomAbvGr     0\n",
       "KitchenAbvGr     0\n",
       "TotRmsAbvGrd     0\n",
       "Fireplaces       0\n",
       "GarageYrBlt      0\n",
       "GarageCars       0\n",
       "GarageArea       0\n",
       "WoodDeckSF       0\n",
       "OpenPorchSF      0\n",
       "EnclosedPorch    0\n",
       "3SsnPorch        0\n",
       "ScreenPorch      0\n",
       "PoolArea         0\n",
       "MiscVal          0\n",
       "MoSold           0\n",
       "YrSold           0\n",
       "SalePrice        0\n",
       "dtype: int64"
      ]
     },
     "execution_count": 8,
     "metadata": {},
     "output_type": "execute_result"
    }
   ],
   "source": [
    "# Impute null values\n",
    "dropped_df = dropped_df.fillna(dropped_df.median())\n",
    "dropped_df.isna().sum()"
   ]
  },
  {
   "cell_type": "code",
   "execution_count": 9,
   "metadata": {},
   "outputs": [],
   "source": [
    "X = dropped_df.drop(columns=\"SalePrice\")"
   ]
  },
  {
   "cell_type": "code",
   "execution_count": 10,
   "metadata": {},
   "outputs": [],
   "source": [
    "# Create y\n",
    "y = df[[\"SalePrice\"]]"
   ]
  },
  {
   "cell_type": "markdown",
   "metadata": {},
   "source": [
    "Look at the information of `X` again"
   ]
  },
  {
   "cell_type": "code",
   "execution_count": 11,
   "metadata": {},
   "outputs": [
    {
     "name": "stdout",
     "output_type": "stream",
     "text": [
      "<class 'pandas.core.frame.DataFrame'>\n",
      "RangeIndex: 1460 entries, 0 to 1459\n",
      "Data columns (total 37 columns):\n",
      "Id               1460 non-null int64\n",
      "MSSubClass       1460 non-null int64\n",
      "LotFrontage      1460 non-null float64\n",
      "LotArea          1460 non-null int64\n",
      "OverallQual      1460 non-null int64\n",
      "OverallCond      1460 non-null int64\n",
      "YearBuilt        1460 non-null int64\n",
      "YearRemodAdd     1460 non-null int64\n",
      "MasVnrArea       1460 non-null float64\n",
      "BsmtFinSF1       1460 non-null int64\n",
      "BsmtFinSF2       1460 non-null int64\n",
      "BsmtUnfSF        1460 non-null int64\n",
      "TotalBsmtSF      1460 non-null int64\n",
      "1stFlrSF         1460 non-null int64\n",
      "2ndFlrSF         1460 non-null int64\n",
      "LowQualFinSF     1460 non-null int64\n",
      "GrLivArea        1460 non-null int64\n",
      "BsmtFullBath     1460 non-null int64\n",
      "BsmtHalfBath     1460 non-null int64\n",
      "FullBath         1460 non-null int64\n",
      "HalfBath         1460 non-null int64\n",
      "BedroomAbvGr     1460 non-null int64\n",
      "KitchenAbvGr     1460 non-null int64\n",
      "TotRmsAbvGrd     1460 non-null int64\n",
      "Fireplaces       1460 non-null int64\n",
      "GarageYrBlt      1460 non-null float64\n",
      "GarageCars       1460 non-null int64\n",
      "GarageArea       1460 non-null int64\n",
      "WoodDeckSF       1460 non-null int64\n",
      "OpenPorchSF      1460 non-null int64\n",
      "EnclosedPorch    1460 non-null int64\n",
      "3SsnPorch        1460 non-null int64\n",
      "ScreenPorch      1460 non-null int64\n",
      "PoolArea         1460 non-null int64\n",
      "MiscVal          1460 non-null int64\n",
      "MoSold           1460 non-null int64\n",
      "YrSold           1460 non-null int64\n",
      "dtypes: float64(3), int64(34)\n",
      "memory usage: 422.1 KB\n"
     ]
    }
   ],
   "source": [
    "X.info()"
   ]
  },
  {
   "cell_type": "markdown",
   "metadata": {},
   "source": [
    "## Let's use this data to perform a first naive linear regression model"
   ]
  },
  {
   "cell_type": "markdown",
   "metadata": {},
   "source": [
    "Compute the R squared and the MSE for both train and test set."
   ]
  },
  {
   "cell_type": "code",
   "execution_count": 12,
   "metadata": {},
   "outputs": [],
   "source": [
    "from sklearn.metrics import mean_squared_error, mean_squared_log_error\n",
    "\n",
    "# Split in train and test\n",
    "X_train, X_test, y_train, y_test = train_test_split(X, y, random_state=42)\n",
    "\n",
    "# Fit the model and print R2 and MSE for train and test\n",
    "lr = LinearRegression()\n",
    "naive_model = lr.fit(X_train, y_train)"
   ]
  },
  {
   "cell_type": "code",
   "execution_count": 13,
   "metadata": {},
   "outputs": [
    {
     "name": "stdout",
     "output_type": "stream",
     "text": [
      "Training Score: 0.8046400702344446\n",
      "Training MSE: 1186117094.297817\n",
      "Test Score: 0.8240865405545399\n",
      "Test MSE: 1232328149.8816075\n"
     ]
    }
   ],
   "source": [
    "print(\"Training Score: {}\".format(naive_model.score(X_train, y_train)))\n",
    "print(\"Training MSE: {}\".format(mean_squared_error(y_train, naive_model.predict(X_train))))\n",
    "print(\"Test Score: {}\".format(naive_model.score(X_test, y_test)))\n",
    "print(\"Test MSE: {}\".format(mean_squared_error(y_test, naive_model.predict(X_test))))"
   ]
  },
  {
   "cell_type": "markdown",
   "metadata": {},
   "source": [
    "## Normalize your data"
   ]
  },
  {
   "cell_type": "markdown",
   "metadata": {},
   "source": [
    "We haven't normalized our data, let's create a new model that uses `preprocessing.scale` to scale our predictors!"
   ]
  },
  {
   "cell_type": "code",
   "execution_count": 14,
   "metadata": {},
   "outputs": [],
   "source": [
    "from sklearn import preprocessing\n",
    "\n",
    "# Scale the data and perform train test split\n",
    "X_scaled = preprocessing.scale(X)\n",
    "\n",
    "X_scaled_train, X_scaled_test, y_train, y_test = train_test_split(X_scaled, y, random_state=42)"
   ]
  },
  {
   "cell_type": "markdown",
   "metadata": {},
   "source": [
    "Perform the same linear regression on this data and print out R-squared and MSE."
   ]
  },
  {
   "cell_type": "code",
   "execution_count": 15,
   "metadata": {},
   "outputs": [],
   "source": [
    "lr2 = LinearRegression()\n",
    "scaled_model = lr2.fit(X_scaled_train, y_train)"
   ]
  },
  {
   "cell_type": "code",
   "execution_count": 16,
   "metadata": {
    "scrolled": true
   },
   "outputs": [
    {
     "name": "stdout",
     "output_type": "stream",
     "text": [
      "Training Score: 0.8047337713515315\n",
      "Training MSE: 1185548193.1067445\n",
      "Test Score: 0.8241699406436402\n",
      "Test MSE: 1231743906.4824674\n"
     ]
    }
   ],
   "source": [
    "print(\"Training Score: {}\".format(scaled_model.score(X_scaled_train, y_train)))\n",
    "print(\"Training MSE: {}\".format(mean_squared_error(y_train, scaled_model.predict(X_scaled_train))))\n",
    "print(\"Test Score: {}\".format(scaled_model.score(X_scaled_test, y_test)))\n",
    "print(\"Test MSE: {}\".format(mean_squared_error(y_test, scaled_model.predict(X_scaled_test))))"
   ]
  },
  {
   "cell_type": "markdown",
   "metadata": {},
   "source": [
    "## Include dummy variables"
   ]
  },
  {
   "cell_type": "markdown",
   "metadata": {},
   "source": [
    "Your model hasn't included dummy variables so far: let's use the \"object\" variables again and create dummies"
   ]
  },
  {
   "cell_type": "code",
   "execution_count": 17,
   "metadata": {},
   "outputs": [],
   "source": [
    "# Create X_cat which contains only the categorical variables\n",
    "cat_df = df.copy()\n",
    "for column in df.columns:\n",
    "    if np.dtype(df[column]) != np.dtype(\"O\"):\n",
    "        cat_df = cat_df.drop(columns=[column])\n",
    "    else:\n",
    "        continue"
   ]
  },
  {
   "cell_type": "code",
   "execution_count": 18,
   "metadata": {
    "scrolled": true
   },
   "outputs": [
    {
     "name": "stdout",
     "output_type": "stream",
     "text": [
      "<class 'pandas.core.frame.DataFrame'>\n",
      "RangeIndex: 1460 entries, 0 to 1459\n",
      "Data columns (total 43 columns):\n",
      "MSZoning         1460 non-null object\n",
      "Street           1460 non-null object\n",
      "Alley            91 non-null object\n",
      "LotShape         1460 non-null object\n",
      "LandContour      1460 non-null object\n",
      "Utilities        1460 non-null object\n",
      "LotConfig        1460 non-null object\n",
      "LandSlope        1460 non-null object\n",
      "Neighborhood     1460 non-null object\n",
      "Condition1       1460 non-null object\n",
      "Condition2       1460 non-null object\n",
      "BldgType         1460 non-null object\n",
      "HouseStyle       1460 non-null object\n",
      "RoofStyle        1460 non-null object\n",
      "RoofMatl         1460 non-null object\n",
      "Exterior1st      1460 non-null object\n",
      "Exterior2nd      1460 non-null object\n",
      "MasVnrType       1452 non-null object\n",
      "ExterQual        1460 non-null object\n",
      "ExterCond        1460 non-null object\n",
      "Foundation       1460 non-null object\n",
      "BsmtQual         1423 non-null object\n",
      "BsmtCond         1423 non-null object\n",
      "BsmtExposure     1422 non-null object\n",
      "BsmtFinType1     1423 non-null object\n",
      "BsmtFinType2     1422 non-null object\n",
      "Heating          1460 non-null object\n",
      "HeatingQC        1460 non-null object\n",
      "CentralAir       1460 non-null object\n",
      "Electrical       1459 non-null object\n",
      "KitchenQual      1460 non-null object\n",
      "Functional       1460 non-null object\n",
      "FireplaceQu      770 non-null object\n",
      "GarageType       1379 non-null object\n",
      "GarageFinish     1379 non-null object\n",
      "GarageQual       1379 non-null object\n",
      "GarageCond       1379 non-null object\n",
      "PavedDrive       1460 non-null object\n",
      "PoolQC           7 non-null object\n",
      "Fence            281 non-null object\n",
      "MiscFeature      54 non-null object\n",
      "SaleType         1460 non-null object\n",
      "SaleCondition    1460 non-null object\n",
      "dtypes: object(43)\n",
      "memory usage: 490.5+ KB\n"
     ]
    }
   ],
   "source": [
    "cat_df.info()"
   ]
  },
  {
   "cell_type": "code",
   "execution_count": 19,
   "metadata": {},
   "outputs": [],
   "source": [
    "# Make dummies\n",
    "X_cat = pd.get_dummies(cat_df)"
   ]
  },
  {
   "cell_type": "code",
   "execution_count": 20,
   "metadata": {
    "scrolled": true
   },
   "outputs": [
    {
     "name": "stdout",
     "output_type": "stream",
     "text": [
      "<class 'pandas.core.frame.DataFrame'>\n",
      "RangeIndex: 1460 entries, 0 to 1459\n",
      "Columns: 252 entries, MSZoning_C (all) to SaleCondition_Partial\n",
      "dtypes: uint8(252)\n",
      "memory usage: 359.4 KB\n"
     ]
    }
   ],
   "source": [
    "X_cat.info()"
   ]
  },
  {
   "cell_type": "markdown",
   "metadata": {},
   "source": [
    "Merge `x_cat` together with our scaled `X` so you have one big predictor dataframe."
   ]
  },
  {
   "cell_type": "code",
   "execution_count": 21,
   "metadata": {},
   "outputs": [],
   "source": [
    "X_merged = pd.concat([pd.DataFrame(X_scaled, columns=X.columns), X_cat], axis=1)"
   ]
  },
  {
   "cell_type": "code",
   "execution_count": 22,
   "metadata": {},
   "outputs": [
    {
     "data": {
      "text/plain": [
       "(1460, 289)"
      ]
     },
     "execution_count": 22,
     "metadata": {},
     "output_type": "execute_result"
    }
   ],
   "source": [
    "X_merged.shape"
   ]
  },
  {
   "cell_type": "code",
   "execution_count": 46,
   "metadata": {},
   "outputs": [],
   "source": [
    "X_merged_train, X_merged_test, y_train, y_test = train_test_split(X_merged, y, random_state=4000)"
   ]
  },
  {
   "cell_type": "code",
   "execution_count": 47,
   "metadata": {},
   "outputs": [
    {
     "name": "stdout",
     "output_type": "stream",
     "text": [
      "            Id  MSSubClass  LotFrontage   LotArea  OverallQual  OverallCond  \\\n",
      "773   0.103211   -0.872563     0.006190 -0.036764    -0.795151    -0.517200   \n",
      "1282  1.310902   -0.872563    -0.402527 -0.172064    -0.795151     1.280685   \n",
      "836   0.252690   -0.636078     0.914450 -0.242219    -0.795151     0.381743   \n",
      "314  -0.985846    0.309859    -0.447940 -0.091886     0.651479     1.280685   \n",
      "1329  1.422417    0.073375    -0.311701 -0.143601     0.651479    -0.517200   \n",
      "937   0.492330    0.073375     0.233255 -0.084370     0.651479    -0.517200   \n",
      "1114  0.912293   -0.872563     0.914450 -0.512819    -0.795151     1.280685   \n",
      "631  -0.233708    1.492282    -1.628678 -0.593999     1.374795    -0.517200   \n",
      "367  -0.860094    0.546344     1.413992 -0.136986    -0.071836    -0.517200   \n",
      "345  -0.912293   -0.163109    -0.220875 -0.409089    -0.071836    -0.517200   \n",
      "784   0.129311    0.428102    -1.583265 -0.422619    -0.071836     0.381743   \n",
      "916   0.442503   -0.872563    -0.902070 -0.152020    -2.965098    -2.315085   \n",
      "237  -1.168541    0.073375    -0.039223 -0.106619     0.651479     1.280685   \n",
      "1408  1.609859    0.309859    -0.447940 -0.278299    -1.518467     1.280685   \n",
      "960   0.546901   -0.872563    -0.902070 -0.331718    -0.795151     1.280685   \n",
      "817   0.207609   -0.872563    -0.039223  0.275427     1.374795    -0.517200   \n",
      "583  -0.347597    0.428102     0.233255  0.298980     2.821425     3.078570   \n",
      "1185  1.080753   -0.163109    -0.447940 -0.078056    -0.795151     1.280685   \n",
      "795   0.155410    0.073375     0.006190 -0.212153    -0.071836     0.381743   \n",
      "466  -0.625199   -0.872563     0.687385  0.011142     0.651479    -0.517200   \n",
      "876   0.347597   -0.872563     1.096102  1.480196    -1.518467    -0.517200   \n",
      "463  -0.632317    0.309859     0.187842  0.147444    -0.071836     1.280685   \n",
      "1054  0.769932    0.073375     0.914450  0.085206     1.374795    -0.517200   \n",
      "781   0.122193    0.073375    -0.220875 -0.337130    -0.071836    -0.517200   \n",
      "1034  0.722479   -0.636078    -0.902070 -0.422118    -0.795151     1.280685   \n",
      "133  -1.415299   -0.872563    -0.039223 -0.367196     1.374795    -0.517200   \n",
      "361  -0.874330   -0.163109    -0.039223 -0.137588    -0.795151    -0.517200   \n",
      "581  -0.352342   -0.872563     1.277754  0.219203     1.374795    -0.517200   \n",
      "1047  0.753324   -0.872563    -0.584179 -0.127465    -0.795151    -0.517200   \n",
      "58   -1.593250    0.073375    -0.175462  0.317220     2.821425    -0.517200   \n",
      "...        ...         ...          ...       ...          ...          ...   \n",
      "435  -0.698752    0.073375    -1.219961  0.015051     0.651479     0.381743   \n",
      "1224  1.173287    0.073375    -0.447940  0.487798     0.651479    -0.517200   \n",
      "165  -1.339374    3.147673    -0.357114 -0.041174    -0.795151     1.280685   \n",
      "978   0.589609   -0.872563    -0.084636 -0.106920    -1.518467    -0.517200   \n",
      "177  -1.310902   -0.163109    -0.039223  0.314013    -0.795151    -0.517200   \n",
      "1011  0.667907    0.782828     0.233255 -0.069336    -0.795151    -0.517200   \n",
      "504  -0.535038    2.438219    -2.082808 -0.822705    -0.071836    -0.517200   \n",
      "1060  0.784168    1.492282    -1.310787 -0.560925     1.374795    -0.517200   \n",
      "636  -0.221845   -0.636078    -0.856657 -0.440659    -2.965098    -2.315085   \n",
      "74   -1.555287   -0.163109    -0.447940 -0.473732    -2.241782     0.381743   \n",
      "1422  1.643076    1.492282    -1.492439 -0.609533    -0.071836    -0.517200   \n",
      "1115  0.914665   -0.872563     1.050689  0.157165     1.374795    -0.517200   \n",
      "429  -0.712988   -0.872563     2.730969  0.094226    -0.071836    -0.517200   \n",
      "1040  0.736715   -0.872563     0.823624  0.261396    -0.795151    -1.416142   \n",
      "501  -0.542156    0.073375     0.233255 -0.071541     0.651479    -0.517200   \n",
      "1423  1.645449    0.546344    -0.039223  0.919354    -0.071836     1.280685   \n",
      "184  -1.294293   -0.163109     1.005276 -0.308566    -0.795151     2.179628   \n",
      "259  -1.116343   -0.872563     0.006190  0.219002    -0.795151    -0.517200   \n",
      "574  -0.368951    0.546344     0.006190 -0.001687    -0.795151     1.280685   \n",
      "568  -0.383187   -0.163109     0.414907  0.181419     1.374795     2.179628   \n",
      "1231  1.189895    0.782828     0.006190 -0.279502    -0.795151     0.381743   \n",
      "512  -0.516056   -0.872563     0.006190 -0.141997    -0.795151    -0.517200   \n",
      "871   0.335733    0.073375     0.006190 -0.177075    -0.071836    -0.517200   \n",
      "509  -0.523174   -0.872563     0.460320 -0.091886    -0.795151     0.381743   \n",
      "219  -1.211250    1.492282    -1.219961 -0.752350     0.651479    -0.517200   \n",
      "1280  1.306156   -0.872563    -0.130049 -0.071040     0.651479    -0.517200   \n",
      "478  -0.596727   -0.872563     0.414907  0.012044     1.374795    -0.517200   \n",
      "166  -1.337001   -0.872563    -0.039223  0.019160    -0.795151    -0.517200   \n",
      "181  -1.301411    0.309859    -0.720418 -0.293533     0.651479     0.381743   \n",
      "765   0.084230   -0.872563     0.233255  0.407921     2.098110    -0.517200   \n",
      "\n",
      "      YearBuilt  YearRemodAdd  MasVnrArea  BsmtFinSF1  ...  SaleType_ConLw  \\\n",
      "773   -0.439440     -1.301740   -0.565215    0.027109  ...               0   \n",
      "1282   0.189854      1.120936   -0.570750    0.193797  ...               0   \n",
      "836   -0.770647     -0.574938   -0.570750   -0.231696  ...               0   \n",
      "314   -1.532424      0.248772   -0.570750   -0.937926  ...               0   \n",
      "1329   0.885390      0.636400   -0.570750   -0.973018  ...               0   \n",
      "937    1.117235      0.975575   -0.570750   -0.225116  ...               0   \n",
      "1114  -0.571923      0.733308   -0.570750   -0.062814  ...               0   \n",
      "631    1.150356      1.024029    0.027027   -0.920380  ...               0   \n",
      "367   -0.306957     -1.107926    1.117416   -0.159318  ...               0   \n",
      "345   -1.068734     -1.689368   -0.570750   -0.973018  ...               0   \n",
      "784   -1.896752      0.781761   -0.570750   -0.973018  ...               0   \n",
      "916   -0.737526     -1.689368   -0.570750   -0.863355  ...               0   \n",
      "237    0.719786      0.878668   -0.570750   -0.091327  ...               0   \n",
      "1408  -2.029235     -1.689368   -0.570750   -0.973018  ...               0   \n",
      "960   -0.439440      1.120936   -0.570750    0.553492  ...               0   \n",
      "817    1.017873      0.830215    0.248425    1.698375  ...               0   \n",
      "583   -2.592288      0.733308   -0.570750   -0.973018  ...               0   \n",
      "1185  -1.565545     -1.689368   -0.570750   -0.113259  ...               0   \n",
      "795    0.289217     -0.187309    0.148796   -0.973018  ...               0   \n",
      "466   -0.041991     -0.720298   -0.570750    0.733340  ...               0   \n",
      "876   -0.273836     -1.059473   -0.570750    0.415317  ...               0   \n",
      "463   -1.234338      0.491040   -0.570750   -0.258015  ...               0   \n",
      "1054   1.017873      0.830215    0.591593    1.071102  ...               0   \n",
      "781    0.686666      0.345679   -0.570750   -0.124226  ...               0   \n",
      "1034  -1.101855     -1.689368   -0.570750   -0.973018  ...               0   \n",
      "133    0.984752      0.830215    0.182006    1.231210  ...               0   \n",
      "361   -1.035613     -0.138856   -0.570750   -0.097907  ...               0   \n",
      "581    1.216598      1.169389    1.122951   -0.973018  ...               0   \n",
      "1047   0.752907      0.491040   -0.570750    0.531560  ...               0   \n",
      "58     1.150356      1.024029    5.135803   -0.973018  ...               0   \n",
      "...         ...           ...         ...         ...  ...             ...   \n",
      "435    0.819149      0.539493   -0.570750   -0.128612  ...               1   \n",
      "1224   1.084115      0.975575   -0.570750    0.614904  ...               0   \n",
      "165   -1.035613      0.684854   -0.570750   -0.203183  ...               0   \n",
      "978   -0.571923     -1.495554   -0.570750    0.237662  ...               0   \n",
      "177   -0.439440     -1.301740   -0.570750   -0.848002  ...               0   \n",
      "1011  -0.207594     -0.962566   -0.570750   -0.973018  ...               0   \n",
      "504    0.090492     -0.526484   -0.570750   -0.409350  ...               0   \n",
      "1060   0.984752      0.781761   -0.570750    0.378031  ...               0   \n",
      "636   -1.168096     -1.689368   -0.570750   -0.973018  ...               1   \n",
      "74    -1.863632     -1.689368   -0.570750   -0.973018  ...               0   \n",
      "1422   1.050994      0.878668    0.370195    0.531560  ...               0   \n",
      "1115   1.183477      1.072482    1.244720    1.229017  ...               0   \n",
      "429    0.554183      0.151865   -0.570750    1.231210  ...               0   \n",
      "1040  -0.472560      0.733308   -0.199907   -0.604550  ...               0   \n",
      "501    1.117235      0.975575   -0.570750   -0.095713  ...               0   \n",
      "1423  -0.174474     -0.914112   -0.570750   -0.973018  ...               0   \n",
      "184   -2.095477      0.297226   -0.570750   -0.973018  ...               0   \n",
      "259   -0.505681     -1.398647   -0.570750   -0.973018  ...               0   \n",
      "574   -0.008870      0.975575   -0.116883   -0.207570  ...               0   \n",
      "568    0.388579      1.169389   -0.570750    2.187472  ...               0   \n",
      "1231  -0.306957     -1.107926    0.093446    0.788171  ...               0   \n",
      "512   -0.439440     -1.301740   -0.570750    0.169671  ...               0   \n",
      "871    0.885390      0.636400    0.071306    0.134579  ...               0   \n",
      "509   -0.406319     -1.253287    0.159866    1.200505  ...               0   \n",
      "219    1.117235      1.024029   -0.482191   -0.937926  ...               0   \n",
      "1280   1.017873      0.830215    0.038097    0.755272  ...               0   \n",
      "478    1.183477      1.120936    1.289000    1.851903  ...               0   \n",
      "166   -0.538802      0.394133   -0.570750   -0.141772  ...               0   \n",
      "181   -1.698028     -1.689368   -0.570750   -0.200990  ...               0   \n",
      "765    1.216598      1.120936    1.001181   -0.973018  ...               0   \n",
      "\n",
      "      SaleType_New  SaleType_Oth  SaleType_WD  SaleCondition_Abnorml  \\\n",
      "773              0             0            0                      0   \n",
      "1282             0             0            1                      0   \n",
      "836              0             0            0                      0   \n",
      "314              0             0            1                      0   \n",
      "1329             0             0            1                      0   \n",
      "937              0             0            1                      0   \n",
      "1114             0             0            1                      0   \n",
      "631              0             0            1                      0   \n",
      "367              0             0            1                      0   \n",
      "345              0             0            1                      0   \n",
      "784              0             0            1                      0   \n",
      "916              0             0            1                      1   \n",
      "237              0             0            1                      0   \n",
      "1408             0             0            1                      0   \n",
      "960              0             0            1                      0   \n",
      "817              0             0            1                      0   \n",
      "583              0             0            1                      0   \n",
      "1185             0             0            1                      0   \n",
      "795              0             0            1                      0   \n",
      "466              0             0            1                      0   \n",
      "876              0             0            1                      0   \n",
      "463              0             0            1                      0   \n",
      "1054             0             0            1                      0   \n",
      "781              0             0            1                      0   \n",
      "1034             0             0            1                      0   \n",
      "133              0             0            1                      0   \n",
      "361              0             0            1                      0   \n",
      "581              1             0            0                      0   \n",
      "1047             0             0            1                      0   \n",
      "58               1             0            0                      0   \n",
      "...            ...           ...          ...                    ...   \n",
      "435              0             0            0                      0   \n",
      "1224             0             0            1                      0   \n",
      "165              0             0            1                      0   \n",
      "978              0             0            1                      1   \n",
      "177              0             0            1                      0   \n",
      "1011             0             0            1                      0   \n",
      "504              0             0            1                      0   \n",
      "1060             0             0            1                      0   \n",
      "636              0             0            0                      0   \n",
      "74               0             0            1                      0   \n",
      "1422             0             0            1                      0   \n",
      "1115             1             0            0                      0   \n",
      "429              0             0            1                      0   \n",
      "1040             0             0            1                      0   \n",
      "501              0             0            1                      0   \n",
      "1423             0             0            1                      0   \n",
      "184              0             0            1                      0   \n",
      "259              0             0            1                      0   \n",
      "574              0             0            1                      0   \n",
      "568              0             0            1                      0   \n",
      "1231             0             0            1                      0   \n",
      "512              0             0            1                      0   \n",
      "871              0             0            1                      0   \n",
      "509              0             0            1                      0   \n",
      "219              1             0            0                      0   \n",
      "1280             0             0            1                      0   \n",
      "478              0             0            1                      0   \n",
      "166              0             0            0                      0   \n",
      "181              0             0            1                      0   \n",
      "765              1             0            0                      0   \n",
      "\n",
      "      SaleCondition_AdjLand  SaleCondition_Alloca  SaleCondition_Family  \\\n",
      "773                       0                     0                     0   \n",
      "1282                      0                     0                     0   \n",
      "836                       0                     0                     0   \n",
      "314                       0                     0                     0   \n",
      "1329                      0                     0                     0   \n",
      "937                       0                     0                     0   \n",
      "1114                      0                     0                     0   \n",
      "631                       0                     0                     0   \n",
      "367                       0                     0                     0   \n",
      "345                       0                     0                     0   \n",
      "784                       0                     0                     0   \n",
      "916                       0                     0                     0   \n",
      "237                       0                     0                     0   \n",
      "1408                      0                     0                     0   \n",
      "960                       0                     0                     0   \n",
      "817                       0                     0                     0   \n",
      "583                       0                     0                     0   \n",
      "1185                      0                     0                     0   \n",
      "795                       0                     0                     0   \n",
      "466                       0                     0                     0   \n",
      "876                       0                     0                     0   \n",
      "463                       0                     0                     0   \n",
      "1054                      0                     0                     0   \n",
      "781                       0                     0                     0   \n",
      "1034                      0                     0                     0   \n",
      "133                       0                     0                     0   \n",
      "361                       0                     0                     0   \n",
      "581                       0                     0                     0   \n",
      "1047                      0                     0                     0   \n",
      "58                        0                     0                     0   \n",
      "...                     ...                   ...                   ...   \n",
      "435                       0                     0                     0   \n",
      "1224                      0                     0                     0   \n",
      "165                       0                     0                     0   \n",
      "978                       0                     0                     0   \n",
      "177                       0                     0                     0   \n",
      "1011                      0                     0                     0   \n",
      "504                       0                     0                     0   \n",
      "1060                      0                     0                     0   \n",
      "636                       0                     0                     0   \n",
      "74                        0                     0                     0   \n",
      "1422                      0                     0                     0   \n",
      "1115                      0                     0                     0   \n",
      "429                       0                     0                     0   \n",
      "1040                      0                     0                     0   \n",
      "501                       0                     0                     0   \n",
      "1423                      0                     1                     0   \n",
      "184                       0                     0                     0   \n",
      "259                       0                     0                     0   \n",
      "574                       0                     0                     0   \n",
      "568                       0                     0                     0   \n",
      "1231                      0                     0                     0   \n",
      "512                       0                     0                     0   \n",
      "871                       0                     0                     0   \n",
      "509                       0                     0                     0   \n",
      "219                       0                     0                     0   \n",
      "1280                      0                     0                     0   \n",
      "478                       0                     0                     0   \n",
      "166                       0                     0                     0   \n",
      "181                       0                     0                     0   \n",
      "765                       0                     0                     0   \n",
      "\n",
      "      SaleCondition_Normal  SaleCondition_Partial  \n",
      "773                      1                      0  \n",
      "1282                     1                      0  \n",
      "836                      1                      0  \n",
      "314                      1                      0  \n",
      "1329                     1                      0  \n",
      "937                      1                      0  \n",
      "1114                     1                      0  \n",
      "631                      1                      0  \n",
      "367                      1                      0  \n",
      "345                      1                      0  \n",
      "784                      1                      0  \n",
      "916                      0                      0  \n",
      "237                      1                      0  \n",
      "1408                     1                      0  \n",
      "960                      1                      0  \n",
      "817                      1                      0  \n",
      "583                      1                      0  \n",
      "1185                     1                      0  \n",
      "795                      1                      0  \n",
      "466                      1                      0  \n",
      "876                      1                      0  \n",
      "463                      1                      0  \n",
      "1054                     1                      0  \n",
      "781                      1                      0  \n",
      "1034                     1                      0  \n",
      "133                      1                      0  \n",
      "361                      1                      0  \n",
      "581                      0                      1  \n",
      "1047                     1                      0  \n",
      "58                       0                      1  \n",
      "...                    ...                    ...  \n",
      "435                      1                      0  \n",
      "1224                     1                      0  \n",
      "165                      1                      0  \n",
      "978                      0                      0  \n",
      "177                      1                      0  \n",
      "1011                     1                      0  \n",
      "504                      1                      0  \n",
      "1060                     1                      0  \n",
      "636                      1                      0  \n",
      "74                       1                      0  \n",
      "1422                     1                      0  \n",
      "1115                     0                      1  \n",
      "429                      1                      0  \n",
      "1040                     1                      0  \n",
      "501                      1                      0  \n",
      "1423                     0                      0  \n",
      "184                      1                      0  \n",
      "259                      1                      0  \n",
      "574                      1                      0  \n",
      "568                      1                      0  \n",
      "1231                     1                      0  \n",
      "512                      1                      0  \n",
      "871                      1                      0  \n",
      "509                      1                      0  \n",
      "219                      0                      1  \n",
      "1280                     1                      0  \n",
      "478                      1                      0  \n",
      "166                      1                      0  \n",
      "181                      1                      0  \n",
      "765                      0                      1  \n",
      "\n",
      "[1095 rows x 289 columns]\n"
     ]
    }
   ],
   "source": [
    "print(X_merged_train)"
   ]
  },
  {
   "cell_type": "markdown",
   "metadata": {},
   "source": [
    "Perform the same linear regression on this data and print out R-squared and MSE."
   ]
  },
  {
   "cell_type": "code",
   "execution_count": 48,
   "metadata": {
    "scrolled": true
   },
   "outputs": [
    {
     "name": "stdout",
     "output_type": "stream",
     "text": [
      "Training Score: 0.9446746517280878\n",
      "Training MSE: 300306217.9976598\n",
      "Test Score: -6.180992882385147e+18\n",
      "Test MSE: 5.4635634687973615e+28\n"
     ]
    }
   ],
   "source": [
    "lr3 = LinearRegression()\n",
    "merged_model = lr3.fit(X_merged_train, y_train)\n",
    "print(\"Training Score: {}\".format(merged_model.score(X_merged_train, y_train)))\n",
    "print(\"Training MSE: {}\".format(mean_squared_error(y_train, merged_model.predict(X_merged_train))))\n",
    "print(\"Test Score: {}\".format(merged_model.score(X_merged_test, y_test)))\n",
    "print(\"Test MSE: {}\".format(mean_squared_error(y_test, merged_model.predict(X_merged_test))))"
   ]
  },
  {
   "cell_type": "code",
   "execution_count": 49,
   "metadata": {},
   "outputs": [
    {
     "name": "stdout",
     "output_type": "stream",
     "text": [
      "SalePrice    1.994201e+31\n",
      "dtype: float64\n",
      "SalePrice    3.226344e+12\n",
      "dtype: float64\n",
      "SalePrice   -6.180993e+18\n",
      "dtype: float64\n"
     ]
    }
   ],
   "source": [
    "RSS = ((y_test - merged_model.predict(X_merged_test)) ** 2).sum() \n",
    "print(RSS)\n",
    "TSS = ((y_test - y_test.mean()) ** 2).sum()\n",
    "print(TSS)\n",
    "score = 1 - (RSS/TSS)\n",
    "print(score)"
   ]
  },
  {
   "cell_type": "markdown",
   "metadata": {},
   "source": [
    "Notice the severe overfitting above; our training R squared is quite high, but the testing R squared is negative! Our predictions are far off. Similarly, the scale of the Testing MSE is orders of magnitude higher than that of the training."
   ]
  },
  {
   "cell_type": "markdown",
   "metadata": {},
   "source": [
    "## Perform Ridge and Lasso regression"
   ]
  },
  {
   "cell_type": "markdown",
   "metadata": {},
   "source": [
    "Use all the data (normalized features and dummy categorical variables) and perform Lasso and Ridge regression for both! Each time, look at R-squared and MSE."
   ]
  },
  {
   "cell_type": "markdown",
   "metadata": {},
   "source": [
    "## Lasso"
   ]
  },
  {
   "cell_type": "markdown",
   "metadata": {},
   "source": [
    "With default parameter (alpha = 1)"
   ]
  },
  {
   "cell_type": "code",
   "execution_count": 50,
   "metadata": {
    "scrolled": true
   },
   "outputs": [
    {
     "name": "stdout",
     "output_type": "stream",
     "text": [
      "Test Score: 0.6719683435027672\n",
      "Test MSE: 2899569388.204465\n"
     ]
    }
   ],
   "source": [
    "lasso1 = Lasso(alpha=1)\n",
    "lasso1.fit(X_merged_train, y_train)\n",
    "\n",
    "print(\"Test Score: {}\".format(lasso1.score(X_merged_test, y_test)))\n",
    "print(\"Test MSE: {}\".format(mean_squared_error(y_test, lasso1.predict(X_merged_test))))"
   ]
  },
  {
   "cell_type": "markdown",
   "metadata": {},
   "source": [
    "With a higher regularization parameter (alpha = 10)"
   ]
  },
  {
   "cell_type": "code",
   "execution_count": 51,
   "metadata": {},
   "outputs": [
    {
     "name": "stdout",
     "output_type": "stream",
     "text": [
      "Test Score: 0.6925929521989798\n",
      "Test MSE: 2717262336.934437\n"
     ]
    }
   ],
   "source": [
    "lasso2 = Lasso(alpha=10)\n",
    "lasso2.fit(X_merged_train, y_train)\n",
    "\n",
    "print(\"Test Score: {}\".format(lasso2.score(X_merged_test, y_test)))\n",
    "print(\"Test MSE: {}\".format(mean_squared_error(y_test, lasso2.predict(X_merged_test))))"
   ]
  },
  {
   "cell_type": "markdown",
   "metadata": {},
   "source": [
    "## Ridge"
   ]
  },
  {
   "cell_type": "markdown",
   "metadata": {},
   "source": [
    "With default parameter (alpha = 1)"
   ]
  },
  {
   "cell_type": "code",
   "execution_count": 60,
   "metadata": {},
   "outputs": [
    {
     "name": "stdout",
     "output_type": "stream",
     "text": [
      "Test Score: 0.7571493300796457\n",
      "Test MSE: 2146629309.881702\n"
     ]
    }
   ],
   "source": [
    "ridge1 = Ridge()\n",
    "ridge1.fit(X_merged_train, y_train)\n",
    "\n",
    "print(\"Test Score: {}\".format(ridge1.score(X_merged_test, y_test)))\n",
    "print(\"Test MSE: {}\".format(mean_squared_error(y_test, ridge1.predict(X_merged_test))))"
   ]
  },
  {
   "cell_type": "markdown",
   "metadata": {},
   "source": [
    "With default parameter (alpha = 10)"
   ]
  },
  {
   "cell_type": "code",
   "execution_count": 55,
   "metadata": {},
   "outputs": [
    {
     "name": "stdout",
     "output_type": "stream",
     "text": [
      "Test Score: 0.7902884598200559\n",
      "Test MSE: 1853702684.5276637\n"
     ]
    }
   ],
   "source": [
    "ridge2 = Ridge(alpha=10)\n",
    "ridge2.fit(X_merged_train, y_train)\n",
    "\n",
    "print(\"Test Score: {}\".format(ridge2.score(X_merged_test, y_test)))\n",
    "print(\"Test MSE: {}\".format(mean_squared_error(y_test, ridge2.predict(X_merged_test))))"
   ]
  },
  {
   "cell_type": "markdown",
   "metadata": {},
   "source": [
    "## Look at the metrics, what are your main conclusions?   \n",
    "\n",
    "Conclusions here"
   ]
  },
  {
   "cell_type": "markdown",
   "metadata": {},
   "source": [
    "## Compare number of parameter estimates that are (very close to) 0 for Ridge and Lasso"
   ]
  },
  {
   "cell_type": "markdown",
   "metadata": {},
   "source": [
    "Compare with the total length of the parameter space and draw conclusions!"
   ]
  },
  {
   "cell_type": "code",
   "execution_count": 68,
   "metadata": {},
   "outputs": [
    {
     "name": "stdout",
     "output_type": "stream",
     "text": [
      "Number of Ridge parameter coefficients for Alpha=10: 289\n",
      "Number of Ridge parameter coefficients for Alpha=10: 289\n",
      "Ridge parameter coefficients that are almost zero for Alpha=1: 4\n",
      "Ridge parameter coefficients that are almost zero for Alpha=10: 4\n"
     ]
    }
   ],
   "source": [
    "# number of Ridge params almost zero\n",
    "print('Number of Ridge parameter coefficients for Alpha=10:', len(ridge1.coef_[0]))\n",
    "print('Number of Ridge parameter coefficients for Alpha=10:', len(ridge2.coef_[0]))\n",
    "\n",
    "print('Ridge parameter coefficients that are almost zero for Alpha=1:', sum(abs(ridge1.coef_[0]) < 10**(-10)))\n",
    "print('Ridge parameter coefficients that are almost zero for Alpha=10:', sum(abs(ridge2.coef_[0]) < 10**(-10)))\n"
   ]
  },
  {
   "cell_type": "code",
   "execution_count": 56,
   "metadata": {},
   "outputs": [
    {
     "name": "stdout",
     "output_type": "stream",
     "text": [
      "Number of Lasso parameter coefficients for Alpha=1: 289\n",
      "Number of Lasso parameter coefficients for Alpha=10: 289\n",
      "Lasso parameter coefficients that are almost zero for Alpha=1 29\n",
      "Lasso parameter coefficients that are almost zero for Alpha=10 66\n"
     ]
    }
   ],
   "source": [
    "# number of Lasso params almost zero\n",
    "print('Number of Lasso parameter coefficients for Alpha=1:', len(lasso1.coef_))\n",
    "print('Number of Lasso parameter coefficients for Alpha=10:', len(lasso2.coef_))\n",
    "\n",
    "print('Lasso parameter coefficients that are almost zero for Alpha=1', sum(abs(lasso1.coef_) < 10**(-10)))\n",
    "print('Lasso parameter coefficients that are almost zero for Alpha=10', sum(abs(lasso2.coef_) < 10**(-10)))"
   ]
  },
  {
   "cell_type": "markdown",
   "metadata": {},
   "source": [
    "Lasso was very effective to essentially perform variable selection and remove about 25% of the variables from your model!"
   ]
  },
  {
   "cell_type": "markdown",
   "metadata": {},
   "source": [
    "## Summary"
   ]
  },
  {
   "cell_type": "markdown",
   "metadata": {},
   "source": [
    "Great! You now know how to perform Lasso and Ridge regression."
   ]
  }
 ],
 "metadata": {
  "kernelspec": {
   "display_name": "Python 3",
   "language": "python",
   "name": "python3"
  },
  "language_info": {
   "codemirror_mode": {
    "name": "ipython",
    "version": 3
   },
   "file_extension": ".py",
   "mimetype": "text/x-python",
   "name": "python",
   "nbconvert_exporter": "python",
   "pygments_lexer": "ipython3",
   "version": "3.7.3"
  }
 },
 "nbformat": 4,
 "nbformat_minor": 2
}
